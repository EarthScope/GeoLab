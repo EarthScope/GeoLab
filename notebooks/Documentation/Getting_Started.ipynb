{
 "cells": [
  {
   "cell_type": "markdown",
   "id": "4fad8460-aceb-4ff6-b43b-10040d73a9b7",
   "metadata": {},
   "source": [
    "# Getting Started: GeoLab"
   ]
  },
  {
   "cell_type": "markdown",
   "id": "f4693b7d-4375-4645-aaeb-ded25979bac1",
   "metadata": {},
   "source": [
    "![cloud_project](images/cloud_project_logo.svg) "
   ]
  },
  {
   "cell_type": "markdown",
   "id": "195e7436-072a-405d-9c63-eee6295e8f8e",
   "metadata": {},
   "source": [
    "## 1. Getting an approved Earthscope email"
   ]
  },
  {
   "cell_type": "markdown",
   "id": "101c27f9-2b80-4a1e-997b-3fb0243b5c56",
   "metadata": {},
   "source": [
    "Once you get an Earthscope-approved email, you can sign on through the [Jupyterhub portal](https://geolab.earthscope.cloud/hub/login?next=%2Fhub%2F).\n",
    " The portal will take you to a sign-on page, asking you to sign in with your email or a Google address.\n"
   ]
  },
  {
   "cell_type": "markdown",
   "id": "1ad3078f-d06a-4efc-96e0-69e772f0e68f",
   "metadata": {},
   "source": [
    "![Portal](images/Portal.png) "
   ]
  },
  {
   "cell_type": "markdown",
   "id": "a9b0782f-9bd8-49dc-83f8-2e5c53221075",
   "metadata": {},
   "source": [
    "## 2. Launching your server \n",
    "The Choose Your Server option lets you select a computing environment tailored to your needs, ensuring you have the right resources for your projects. "
   ]
  },
  {
   "cell_type": "markdown",
   "id": "a260318b-d231-4d05-bb98-65b766ed7d65",
   "metadata": {},
   "source": [
    "![Server](images/Server.png)"
   ]
  },
  {
   "cell_type": "markdown",
   "id": "02476776-9f6c-4587-80bb-eaceb407aca7",
   "metadata": {},
   "source": [
    "When selecting a server for your JupyterHub environment, it's important to choose one that meets your computational needs without overcommitting resources. Below are the available server options along with their specifications and recommended use cases.\n",
    "\n",
    "\n",
    "The **Shared Small server** is a multi-user environment where resources are shared among several users. This is the recommended option for most users, especially for those starting out or working on less intensive tasks. \n",
    "Use Cases\n",
    "  - Initial development and testing\n",
    "  - Educational purposes\n",
    "  - Light to moderate data analysis\n",
    "\n",
    "The **Small server** is a dedicated environment with more robust resources. This option is suitable for users who need more computational power and memory for their projects. It ensures that you have consistent access to the allocated resources without competition from other users.\n",
    "Use Cases\n",
    "  - More intensive data analysis and processing\n",
    "  - Running medium-sized machine learning models\n",
    "  - Projects requiring higher memory capacity\n",
    "\n",
    "The **Medium server** provides a balanced environment with significant computational power and memory, making it ideal for more demanding tasks. This option is perfect for users who require a substantial amount of resources for their work but do not need the highest available tier.\n",
    "\n",
    "  - Large-scale data analysis and processing\n",
    "  - Running large machine learning models and simulations\n",
    "  - Projects involving substantial datasets and computational workloads\n",
    "\n",
    "**To request a larger server, please contact an administrator**\n"
   ]
  },
  {
   "cell_type": "markdown",
   "id": "c1007b69-8ee9-4bcd-bc40-995ec1ec49c5",
   "metadata": {},
   "source": [
    "## 3. Selecting your image"
   ]
  },
  {
   "cell_type": "markdown",
   "id": "b952676f-c382-4090-b200-2e914a143e15",
   "metadata": {},
   "source": [
    "In JupyterHub, selecting the appropriate image is crucial for ensuring you have the necessary tools and libraries for your tasks. Geolab is currently set up with 2 default images, **GeoLab** and **MsPASS**.\n",
    "\n",
    "- **GeoLab:** This image is designed for students and researchers. It includes pre-installed tools and libraries commonly used in geophysical studies.\n",
    "\n",
    "- **MsPASS:** This curated image is specifically prepared for the MsPASS short course.\n",
    "\n",
    "- **Custom Images:** Custom images can be created upon request. If you have specific requirements or need particular software setups, please get in touch with the administration to discuss your needs and have a custom image prepared for you."
   ]
  },
  {
   "cell_type": "markdown",
   "id": "7512e368-1de0-425c-9b71-3cb04c96a31a",
   "metadata": {},
   "source": [
    "![Server_options](images/Server_Options.png)"
   ]
  },
  {
   "cell_type": "markdown",
   "id": "e85ede21-477a-4b48-94dc-0b71de4c9675",
   "metadata": {},
   "source": [
    "After selecting your appropriate image, you will be prompted with a loading screen. Please be aware that this process may take a few minutes."
   ]
  },
  {
   "cell_type": "markdown",
   "id": "016addf1-5b18-4309-a847-353104ed0963",
   "metadata": {},
   "source": [
    "![Loading](images/Loading.png)"
   ]
  },
  {
   "cell_type": "markdown",
   "id": "70f639ef-4d93-43ba-88e6-52f8bcd5896b",
   "metadata": {},
   "source": [
    "Once the loading process is complete, you will be prompted with a Jupyter Notebook interface. If you encounter any issues, double-check that you have selected the correct image. If problems persist, please contact an administrator for assistance."
   ]
  },
  {
   "cell_type": "markdown",
   "id": "9542e25c-cc3a-4019-afdf-d45180124b5c",
   "metadata": {},
   "source": [
    "Run this code to check if you are in the right image:\n",
    "\n",
    " **Check image:** \n",
    "  ```python\n",
    "  !printenv | grep IMAGE\n",
    "  ```\n",
    "If on the wrong image skip to step 5 to restart and select the correct image "
   ]
  },
  {
   "cell_type": "markdown",
   "id": "6200e445-09fb-4edc-9c4a-cc5843171e51",
   "metadata": {},
   "source": [
    "## 4. Once in Hub"
   ]
  },
  {
   "cell_type": "markdown",
   "id": "bb55c3c0-b63e-4d64-b64a-df9795daabc0",
   "metadata": {},
   "source": [
    "Once you are in the JupyterHub environment, take some time to familiarize yourself with the interface and available tools. Here are a few steps to get you started:\n",
    "\n",
    "**Explore the Environment:**\n",
    "- Spend a few minutes navigating through the JupyterHub interface to understand where different features and options are located.\n",
    "\n",
    "**Check Out the /shared Drive:**\n",
    "- The /shared drive contains additional documentation and introductory notebooks that can help you get up to speed with the tools and workflows available in JupyterHub.\n",
    "- Review these resources to enhance your understanding and make the most out of your JupyterHub experience.\n",
    "\n",
    "**Respect the Hub:**\n",
    "- Be mindful of the resources you are using and ensure you are not overloading the system.\n",
    "- Properly shut down your server when you are done to conserve resources and maintain system efficiency.\n"
   ]
  },
  {
   "cell_type": "markdown",
   "id": "99d15e1b-ff4d-4433-864f-b381d54d851a",
   "metadata": {},
   "source": [
    "## 5. When you finish"
   ]
  },
  {
   "cell_type": "markdown",
   "id": "08ea6ebd-d408-49e6-95ec-98678093798c",
   "metadata": {},
   "source": [
    "When you have finished your work, it is important to properly shut down your server. This helps to conserve resources and maintain system efficiency. To shut down the server:"
   ]
  },
  {
   "cell_type": "markdown",
   "id": "ba2fee17-f782-493c-8bcc-27ebbf047b6f",
   "metadata": {},
   "source": [
    "### Save all your work in the Jupyter Notebook"
   ]
  },
  {
   "cell_type": "markdown",
   "id": "265c54e1-7973-4bcf-849f-adbfcaa254e4",
   "metadata": {},
   "source": [
    "![Save](images/Save.png)"
   ]
  },
  {
   "cell_type": "markdown",
   "id": "7e6df24c-c89a-41b2-a222-43950a9e1493",
   "metadata": {},
   "source": [
    "### Navigate to the Control Panel"
   ]
  },
  {
   "cell_type": "markdown",
   "id": "ea60608e-70cf-4d41-ace5-42762384eaa5",
   "metadata": {},
   "source": [
    "![Control_Panel](images/Control_Panel.png)"
   ]
  },
  {
   "cell_type": "markdown",
   "id": "397ef5ee-130e-4c9c-87fd-9f3e05f54f99",
   "metadata": {},
   "source": [
    "### Click on the \"Stop My Server\" button"
   ]
  },
  {
   "cell_type": "markdown",
   "id": "a3504a6f-faf2-425e-bc22-84c89ad92088",
   "metadata": {},
   "source": [
    "![Stop_Server](images/Stop_Server.png)"
   ]
  },
  {
   "cell_type": "markdown",
   "id": "104f6f69-8009-4132-b6aa-fd200d7ac350",
   "metadata": {},
   "source": [
    "## 6. Happy computing & Enjoy your time in GeoLab!"
   ]
  }
 ],
 "metadata": {
  "kernelspec": {
   "display_name": "Python 3 (ipykernel)",
   "language": "python",
   "name": "python3"
  },
  "language_info": {
   "codemirror_mode": {
    "name": "ipython",
    "version": 3
   },
   "file_extension": ".py",
   "mimetype": "text/x-python",
   "name": "python",
   "nbconvert_exporter": "python",
   "pygments_lexer": "ipython3",
   "version": "3.11.9"
  }
 },
 "nbformat": 4,
 "nbformat_minor": 5
}
