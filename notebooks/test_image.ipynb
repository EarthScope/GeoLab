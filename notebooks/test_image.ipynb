{
 "cells": [
  {
   "cell_type": "markdown",
   "id": "d64704ac-b38c-4a14-9869-327b3056d7e7",
   "metadata": {},
   "source": [
    "# Test ES-Image\n",
    "@dittmann \n",
    "\n",
    "Goal of ES image is to support  earthscope data processing"
   ]
  },
  {
   "cell_type": "markdown",
   "id": "7e0fa20b-7896-4d80-8afa-22c0be4c20a7",
   "metadata": {},
   "source": [
    "## Test pygmt"
   ]
  },
  {
   "cell_type": "code",
   "execution_count": null,
   "id": "9e7109c3-ff26-4ae7-8082-c25869903a6a",
   "metadata": {
    "tags": []
   },
   "outputs": [],
   "source": [
    "#https://www.pygmt.org/latest/tutorials/basics/coastlines.html#sphx-glr-tutorials-basics-coastlines-py\n",
    "import pygmt\n",
    "fig = pygmt.Figure()\n",
    "fig.basemap(region=\"g\", projection=\"W15c\", frame=True)\n",
    "fig.coast(shorelines=True)\n",
    "fig.show()"
   ]
  },
  {
   "cell_type": "markdown",
   "id": "6f7700e1-0a6f-4603-aae9-f6641efcac42",
   "metadata": {},
   "source": [
    "## Test Obspy with IRIS data"
   ]
  },
  {
   "cell_type": "code",
   "execution_count": null,
   "id": "36ee9cdf-d7ec-4104-aa91-643131fc74c3",
   "metadata": {
    "tags": []
   },
   "outputs": [],
   "source": [
    "#https://docs.obspy.org/packages/obspy.clients.fdsn.html\n",
    "from obspy.clients.fdsn import Client\n",
    "client = Client(\"IRIS\")"
   ]
  },
  {
   "cell_type": "code",
   "execution_count": null,
   "id": "57e9b5a6-d2c2-4a26-b5c5-7abeaa4c167f",
   "metadata": {
    "tags": []
   },
   "outputs": [],
   "source": [
    "from obspy import UTCDateTime\n",
    "t = UTCDateTime(\"2010-02-27T06:45:00.000\")\n",
    "st = client.get_waveforms(\"IU\", \"ANMO\", \"00\", \"LHZ\", t, t + 60 * 60)\n",
    "st.plot() "
   ]
  },
  {
   "cell_type": "code",
   "execution_count": null,
   "id": "369b8a58-8776-4b2b-8368-63dd04644d75",
   "metadata": {
    "tags": []
   },
   "outputs": [],
   "source": [
    "starttime = UTCDateTime(\"2002-01-01\")\n",
    "endtime = UTCDateTime(\"2002-01-02\")\n",
    "cat = client.get_events(starttime=starttime, endtime=endtime,\n",
    "                        minmagnitude=6, catalog=\"ISC\")\n",
    "print(cat)  \n",
    "\n",
    "cat.plot() "
   ]
  },
  {
   "cell_type": "markdown",
   "id": "5e30669a-5b7f-4e85-97e4-26574c2d2494",
   "metadata": {},
   "source": [
    "## Test ES SDK"
   ]
  },
  {
   "cell_type": "code",
   "execution_count": null,
   "id": "9e684aff-6bf7-4dca-bd3c-09f711c913b7",
   "metadata": {
    "tags": []
   },
   "outputs": [],
   "source": [
    "import requests\n",
    "from pathlib import Path\n",
    " \n",
    "from earthscope_sdk.auth.device_code_flow import DeviceCodeFlowSimple\n",
    "from earthscope_sdk.auth.auth_flow import NoTokensError\n",
    "\n",
    "def get_es_file(url, directory_to_save_file='./', token_path='./'):\n",
    "    \"\"\"function to get earthscope data using es-sdk\n",
    "    modified from https://gitlab.com/earthscope/public/earthscope-sdk\n",
    "\n",
    "    Parameters\n",
    "    ----------\n",
    "    url : string\n",
    "        url of desired file at gage-data.earthscope.org\n",
    "    directory_to_save_file : str, optional\n",
    "        path of directory in which to save the file, by default cwd\n",
    "    token_path : str, optional\n",
    "        path of directory in which to save the token, by default './'\n",
    "    \"\"\"\n",
    "    # instantiate the device code flow subclass\n",
    "    device_flow = DeviceCodeFlowSimple(Path(token_path))\n",
    "    try:\n",
    "      # get access token from local path\n",
    "      device_flow.get_access_token_refresh_if_necessary()\n",
    "    except NoTokensError:\n",
    "      # if no token was found locally, do the device code flow\n",
    "      device_flow.do_flow()\n",
    "    token = device_flow.access_token\n",
    "\n",
    "    # request a file and provide the token in the Authorization header\n",
    "    file_name = Path(url).name\n",
    "\n",
    "    r = requests.get(url, headers={\"authorization\": f\"Bearer {token}\"})\n",
    "    if r.status_code == requests.codes.ok:\n",
    "      # save the file\n",
    "      with open(Path(Path(directory_to_save_file) / file_name), 'wb') as f:\n",
    "          for data in r:\n",
    "              f.write(data)\n",
    "    else:\n",
    "      #problem occured\n",
    "      print(f\"failure: {r.status_code}, {r.reason}\")"
   ]
  },
  {
   "cell_type": "code",
   "execution_count": null,
   "id": "1031aa3d-9132-4b06-a67d-54803730e61f",
   "metadata": {
    "tags": []
   },
   "outputs": [],
   "source": [
    "url='https://gage-data.earthscope.org/archive/gnss/products/velocity/cwu.final_igs14.vel'\n",
    "get_es_file(url)"
   ]
  },
  {
   "cell_type": "code",
   "execution_count": null,
   "id": "7fcc018b-46cb-4731-add0-05a476db1f2b",
   "metadata": {
    "tags": []
   },
   "outputs": [],
   "source": [
    "import pandas as pd\n",
    "df=pd.read_csv(\"cwu.final_igs14.vel\",header=35, delim_whitespace=True)\n",
    "df=df.drop_duplicates(subset='*Dot#', keep=\"last\")"
   ]
  },
  {
   "cell_type": "code",
   "execution_count": null,
   "id": "1c97f09a-c5f3-4ae8-ba88-f1e0534631a0",
   "metadata": {
    "tags": []
   },
   "outputs": [],
   "source": [
    "import numpy as np\n",
    "angle = np.degrees(np.arctan2(df[\"dN/dt\"], df[\"dE/dt\"]))\n",
    "length = np.hypot(df[\"dN/dt\"], df[\"dE/dt\"])"
   ]
  },
  {
   "cell_type": "code",
   "execution_count": null,
   "id": "6ecc6b57-9a0c-4601-a406-06d622f6e21d",
   "metadata": {
    "tags": []
   },
   "outputs": [],
   "source": [
    "# West, East, South, North boundaries of the map\n",
    "region = [-130, -100, 30, 50]\n",
    "\n",
    "fig = pygmt.Figure()\n",
    "with fig.subplot(\n",
    "    nrows=1,\n",
    "    ncols=2,\n",
    "    figsize=(\"35c\", \"15c\"),\n",
    "    sharey=\"l\",  # shared y-axis on the left side\n",
    "    frame=\"WSrt\",\n",
    "):\n",
    "    with fig.set_panel(0):\n",
    "        fig.basemap(region=region, projection=\"M?\", frame=\"af\")\n",
    "        fig.coast(area_thresh=1e4, land=\"#eeeeee\")\n",
    "        scale_factor = 2 / length.max()\n",
    "        fig.plot(\n",
    "            x=df.Ref_Elong,\n",
    "            y=df.Ref_Nlat,\n",
    "            direction=[angle, length * scale_factor],\n",
    "            style=\"v0.15c+e\",\n",
    "            fill=\"blue\",\n",
    "            pen=\"1p,blue\",\n",
    "        )\n",
    "        # Plot a quiver caption\n",
    "        fig.plot(\n",
    "            x=-4,\n",
    "            y=42,\n",
    "            direction=[[0], [1 * scale_factor]],\n",
    "            style=\"v0.15c+e\",\n",
    "            fill=\"blue\",\n",
    "            pen=\"1p,blue\",\n",
    "        )\n",
    "        fig.text(\n",
    "            x=-4,\n",
    "            y=42.2,\n",
    "            text=\"1 mm/yr\",\n",
    "            justify=\"BL\",\n",
    "            font=\"10p,Helvetica,blue\",\n",
    "        )\n",
    "    with fig.set_panel(1):\n",
    "        fig.basemap(region=region, projection=\"M?\", frame=\"af\")\n",
    "        fig.coast(area_thresh=1e4, land=\"#eeeeee\")\n",
    "        pygmt.makecpt(\n",
    "            cmap=\"polar\",\n",
    "            series=[-.005, .005],\n",
    "        )\n",
    "        fig.plot(\n",
    "            x=df.Ref_Elong,\n",
    "            y=df.Ref_Nlat,\n",
    "            fill=df[\"dU/dt\"],\n",
    "            style=\"c0.2c\",\n",
    "            cmap=True,\n",
    "            pen=\"0.5p,black\",\n",
    "        )\n",
    "        fig.colorbar(\n",
    "            frame='af+l\"vertical velocity [m/yr]\"',\n",
    "            position=\"jTL+w7c/0.3c+h+o1/1\",\n",
    "        )\n",
    "fig.show()\n",
    "\n",
    "#modified from https://www.fatiando.org/ensaio/latest/gallery/alps-gps-velocity.html"
   ]
  },
  {
   "cell_type": "code",
   "execution_count": null,
   "id": "ce505709-d15c-4ecc-afd9-ce0552bd3b4a",
   "metadata": {},
   "outputs": [],
   "source": []
  }
 ],
 "metadata": {
  "kernelspec": {
   "display_name": "Python 3 (ipykernel)",
   "language": "python",
   "name": "python3"
  },
  "language_info": {
   "codemirror_mode": {
    "name": "ipython",
    "version": 3
   },
   "file_extension": ".py",
   "mimetype": "text/x-python",
   "name": "python",
   "nbconvert_exporter": "python",
   "pygments_lexer": "ipython3",
   "version": "3.10.14"
  }
 },
 "nbformat": 4,
 "nbformat_minor": 5
}
