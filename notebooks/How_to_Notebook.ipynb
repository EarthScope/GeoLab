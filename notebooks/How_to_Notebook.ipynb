{
 "cells": [
  {
   "cell_type": "markdown",
   "id": "c132e50f-d304-41d6-b78f-30dcd2239772",
   "metadata": {},
   "source": [
    "![cloud_project](cloud_project_logo.svg) "
   ]
  },
  {
   "cell_type": "markdown",
   "id": "836ca03d-28e6-4d85-ba81-1f8aa7f05446",
   "metadata": {},
   "source": [
    "\n",
    "# How to Notebook\n",
    "\n",
    "Welcome to the JupyterHub how-to notebook! This guide will help you start using Jupyter Notebooks on GeoLab. You'll learn about the basic components of a notebook, how to perform essential operations, and best practices to make the most out of your Jupyter experience. \n",
    "\n"
   ]
  },
  {
   "cell_type": "markdown",
   "id": "ee4ec4b7-bf0c-4ce3-a160-cf801214e402",
   "metadata": {},
   "source": [
    "## 1. Understanding your NoteBook\n",
    "Jupyter Notebooks are an open-source web application that allows you to create and share documents that contain live code, equations, visualizations, and narrative text. They are widely used in data science, academic research, and machine learning for their versatility and ease of use."
   ]
  },
  {
   "cell_type": "markdown",
   "id": "9a470c5a-aa21-4692-a2ca-d064d3854dd3",
   "metadata": {},
   "source": [
    "### 1.1 Key Components of a Jupyter Notebook\n",
    "\n",
    "- **Cells**: The building blocks of a Jupyter Notebook. There are three main types of cells:\n",
    "  - **Code cells**: Used to write and execute code.\n",
    "  - **Markdown cells**: Used to write formatted text, including headings, lists, links, and images.\n",
    "  - **Raw cells**: Display content as-is, without any formatting or execution.\n",
    "\n",
    "- **Toolbar**: Contains various controls and tools to manage the notebook, such as saving, adding cells, and changing cell types.\n",
    "\n",
    "- **Kernel**: The computational engine that executes the code contained in the notebook. Different kernels can be selected based on the programming language in use (e.g., Python, R, Julia).\n",
    "\n",
    "\n",
    "![ToolBar](toolbar1.png) \n"
   ]
  },
  {
   "cell_type": "markdown",
   "id": "debd642d-7286-4634-be70-d6c3cf10e62f",
   "metadata": {},
   "source": [
    "### 1.2 Basic Operations in Jupyter Notebooks\n",
    "\n",
    "- **Running Cells**: Cells can be run individually or in sequence using the \"Run\" button or keyboard shortcuts (Shift + Enter).\n",
    "- **Adding Cells**: New cells can be added above or below the current cell using the toolbar buttons or the \"Insert\" menu.\n",
    "- **Deleting Cells**: Cells can be deleted using the \"Cut\" button or keyboard shortcuts (Esc + D + D).\n",
    "- **Reordering Cells**: Cells can be moved up or down using the toolbar buttons or by dragging and dropping.\n",
    "\n"
   ]
  },
  {
   "cell_type": "markdown",
   "id": "b07acb1d-3d0c-4e4d-9e00-fa855c4c4490",
   "metadata": {},
   "source": [
    "### 1.3 Markdown Basics\n",
    "\n",
    "Markdown is a lightweight markup language that allows you to format text to properly document your code. Here are some basic Markdown elements:\n",
    "\n",
    "- **Headings**: Use `#` for headings (e.g., `# Heading 1`, `## Heading 2`, `### Heading 3`).\n",
    "- **Bold and Italics**: Use `**bold**` or `__bold__` for bold text, and `*italic*` or `_italic_` for italic text.\n",
    "- **Lists**:\n",
    "  - Unordered lists: Use `*`, `-`, or `+` (e.g., `* Item 1`, `- Item 2`).\n",
    "  - Ordered lists: Use numbers followed by a period (e.g., `1. Item 1`, `2. Item 2`).\n",
    "- **Links**: `[Link text](URL)`\n",
    "- **Images**: `![Alt text](URL)`\n",
    "- **Code**: Inline code with backticks `` `code` `` and code blocks with triple backticks ``` ```.\n"
   ]
  },
  {
   "cell_type": "markdown",
   "id": "58d74c5c-f770-4b36-a269-c164f2eed16c",
   "metadata": {},
   "source": [
    "### 1.4 Saving and Exporting Notebooks\n",
    "\n",
    "- **Saving**: Notebooks can be saved using the \"Save\" button or keyboard shortcuts (Ctrl + S).\n",
    "- **Exporting**: Notebooks can be exported to various formats such as HTML, PDF, and Markdown via the \"File\" menu.\n",
    "\n",
    "\n",
    "#### Cloning a Repository\n",
    "To work on an existing project, you need to clone the repository to your local environment. Use the following command to clone a repository:\n",
    "\n",
    "```python\n",
    "!git clone https://github.com/your-repo.git\n",
    "```\n",
    "\n",
    "Replace `https://github.com/your-repo.git` with the URL of the repository you want to clone.\n",
    "\n",
    "#### Pulling Changes\n",
    "To update your local repository with the latest changes from the remote repository, use the git pull command:\n",
    "\n",
    "```python\n",
    "!git pull origin main\n",
    "```\n",
    "\n",
    "This command fetches and merges changes from the main branch of the remote repository. Adjust the branch name if you are working on a different branch.\n",
    "\n",
    "#### Staging and Committing Changes\n",
    "To stage the changes you made, use the git add command:\n",
    "\n",
    "```python\n",
    "!git add .\n",
    "```\n",
    "\n",
    "Next, commit the staged changes with a descriptive message:\n",
    "\n",
    "```python\n",
    "!git commit -m \"Your commit message\"\n",
    "```\n",
    "\n",
    "#### Pushing Changes\n",
    "To upload your local changes to the remote repository, use the git push command:\n",
    "\n",
    "```python\n",
    "!git push origin main\n",
    "```\n",
    "This command pushes your changes to the main branch of the remote repository. Adjust the branch name if you are working on a different branch."
   ]
  },
  {
   "cell_type": "markdown",
   "id": "9208cd0e-f01f-40d1-a2ce-b282904420d6",
   "metadata": {},
   "source": [
    "### 1.5 Installing and Managing Packages/Environments\n",
    "\n",
    "You can install packages directly from within a Jupyter Notebook using the `!` operator to run shell commands. Here are some common ways to install packages:\n",
    "\n",
    "- **Using pip**: The Python package installer.\n",
    "  \n",
    "  ```python\n",
    "  !pip install package_name\n",
    "  ```\n",
    "- **Using conda** The package manager from the Anaconda distribution.\n",
    "\n",
    "   ```python\n",
    "  !conda install package_name\n",
    "    ```\n"
   ]
  },
  {
   "cell_type": "markdown",
   "id": "b5f25cfb-568a-46d6-b38d-58f499760577",
   "metadata": {},
   "source": []
  },
  {
   "cell_type": "markdown",
   "id": "c383616e-02f4-4f7e-a890-49b991f0fd16",
   "metadata": {},
   "source": [
    "### 1.6 Accessing the Terminal \n",
    "\n",
    "Jupyter Notebooks provide an integrated terminal, allowing you to perform various command-line tasks directly from your Jupyter environment. This can be useful for managing files, installing packages, and running scripts.\n",
    "\n",
    "#### Opening the Terminal\n",
    "\n",
    "To access the terminal in Jupyter Notebooks:\n",
    "\n",
    "1. **Navigate to the Jupyter Dashboard**: This is the main page you see when you first log in to JupyterHub.\n",
    "2. **Open a New Terminal**:\n",
    "   - Click on the `New` button in the top right corner of the dashboard.\n",
    "   - Select `Terminal` from the dropdown menu.\n",
    "\n",
    "This will open a new terminal window in a new tab.\n",
    "\n",
    "#### Using the Terminal\n",
    "\n",
    "Once the terminal is open, you can use it like any standard command-line interface. Here are some common tasks you might perform:\n",
    "\n",
    "- **Navigating the File System**:\n",
    "  ```bash\n",
    "  ls      # List files and directories\n",
    "  cd      # Change directory\n",
    "  pwd     # Print working directory\n"
   ]
  },
  {
   "cell_type": "markdown",
   "id": "fc4cb2c2-1284-4d26-a384-96b2fe075e80",
   "metadata": {},
   "source": [
    "### 1.6 Best Practices\n",
    "\n",
    "- **Document Your Code**: Use Markdown cells to explain what your code does and why.\n",
    "- **Keep Cells Manageable**: Break down complex code into smaller, manageable cells.\n",
    "- **Use Version Control**: Integrate with version control systems like Git to track changes and collaborate with others.\n"
   ]
  },
  {
   "cell_type": "markdown",
   "id": "c6a133b8-87dc-40e9-9f9d-50149c62b464",
   "metadata": {},
   "source": [
    "### 1.7 Troubleshooting Common Issues\n",
    "\n",
    "- **Kernel Issues**: Restart the kernel if you encounter unexpected behavior or errors.\n",
    "- **Lost Work**: Regularly save your work and consider using checkpoints.\n",
    "- **Cell Output**: Clear the output of cells if it becomes too large or cluttered."
   ]
  },
  {
   "cell_type": "code",
   "execution_count": null,
   "id": "399d0d1d-f08b-44a3-a43b-e4b25d798cc8",
   "metadata": {},
   "outputs": [],
   "source": []
  }
 ],
 "metadata": {
  "kernelspec": {
   "display_name": "Python 3 (ipykernel)",
   "language": "python",
   "name": "python3"
  },
  "language_info": {
   "codemirror_mode": {
    "name": "ipython",
    "version": 3
   },
   "file_extension": ".py",
   "mimetype": "text/x-python",
   "name": "python",
   "nbconvert_exporter": "python",
   "pygments_lexer": "ipython3",
   "version": "3.11.9"
  }
 },
 "nbformat": 4,
 "nbformat_minor": 5
}
