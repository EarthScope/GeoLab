{
 "cells": [
  {
   "cell_type": "markdown",
   "id": "836f2eed-121f-49a5-a97f-6acd836703b1",
   "metadata": {},
   "source": [
    "\n",
    "# How to Notebook"
   ]
  },
  {
   "cell_type": "markdown",
   "id": "c132e50f-d304-41d6-b78f-30dcd2239772",
   "metadata": {},
   "source": [
    "![cloud_project](images/cloud_project_logo.svg) "
   ]
  },
  {
   "cell_type": "markdown",
   "id": "836ca03d-28e6-4d85-ba81-1f8aa7f05446",
   "metadata": {},
   "source": [
    "\n",
    "\n",
    "Welcome to the JupyterHub how-to notebook! This guide will help you start using Jupyter Notebooks on GeoLab. You'll learn about the basic components of a notebook, how to perform essential operations, and best practices to make the most out of your Jupyter experience. \n",
    "\n"
   ]
  },
  {
   "cell_type": "markdown",
   "id": "ee4ec4b7-bf0c-4ce3-a160-cf801214e402",
   "metadata": {},
   "source": [
    "# 1. Getting Started: Understanding your NoteBook\n",
    "Jupyter Notebooks are an open-source web application that allows you to create and share documents that contain live code, equations, visualizations, and narrative text. They are widely used in data science, academic research, and machine learning for their versatility and ease of use."
   ]
  },
  {
   "cell_type": "markdown",
   "id": "0d4628d6-de9c-465b-95b4-f13a908fc61b",
   "metadata": {},
   "source": [
    "## Basic Navigation\n",
    "\n",
    "You are now viewing the Jupyter Dash Board. Here are some key features \n",
    "\n",
    "- **Files Tab**: This is where you can see your files and directories.\n",
    "- **Running Tab**: This shows all the currently running notebooks, terminals, and other sessions.\n",
    "\n",
    "\n",
    "![JupyterHub Dashboard](images/Jupyter_Dashboard.png)\n",
    "\n",
    "### Creating a New Notebook\n",
    "\n",
    "To create a new notebook, follow these steps:\n",
    "\n",
    "1. Click on the `New` button on the top left of the dashboard.\n",
    "2. Select `Python 3` (or the appropriate kernel) from the dropdown menu.\n",
    "\n",
    "![New Notebook](images/New_Notebook.png)\n",
    "\n",
    "A new notebook will open in a new tab.\n"
   ]
  },
  {
   "cell_type": "markdown",
   "id": "38ae6e48-0db2-4257-ad06-8eb45d89a02d",
   "metadata": {},
   "source": [
    "# 2. Notebook Interface Overview\n",
    "\n",
    "When you open a new notebook, you will see a toolbar at the top, a menu bar, and an empty cell. \n",
    "\n",
    "- **Menu Bar**: Contains various options like File, Edit, View, Insert, Cell, Kernel, Widgets, and Help.\n",
    "- **Toolbar**: Provides quick access to common actions such as saving, adding cells, cutting/pasting cells, running cells, etc.\n",
    "- **Cells**: The main content area where you write your code or text.\n",
    "\n",
    "![Notebook Interface](images/Notebook_interface.png)\n",
    "\n",
    "### Cell Operations \n",
    "\n",
    "- **Running Cells**: Cells can be run individually or in sequence using the \"Run\" button or keyboard shortcuts `(Shift + Enter)`.\n",
    "- **Adding Cells**: New cells can be added above or below the current cell using the toolbar buttons or the `\"Insert\"` menu.\n",
    "- **Deleting Cells**: Cells can be deleted using the `\"Cut\"` button or keyboard shortcuts `(Esc + D + D)`.\n",
    "- **Reordering Cells**: Cells can be moved up or down using the toolbar buttons or by dragging and dropping.\n",
    "\n",
    "Try running the cell below to print a message:\n",
    "\n",
    "```python\n",
    "# This is a code cell\n",
    "print(\"Hello, GeoLab!\")\n"
   ]
  },
  {
   "cell_type": "markdown",
   "id": "3ceb6344-07f2-435c-91ef-7f00c80f4e0e",
   "metadata": {},
   "source": [
    "### Keyboard Shortcuts\n",
    "\n",
    "Jupyter Notebooks have several keyboard shortcuts to enhance productivity. Here are a few essential ones:\n",
    "\n",
    "- `Shift + Enter`: Run the current cell and move to the next one.\n",
    "- `Ctrl + Enter`: Run the current cell and stay in the current cell.\n",
    "- `Esc + A`: Insert a new cell above.\n",
    "- `Esc + B`: Insert a new cell below.\n",
    "- `Esc + D, D`: Delete the current cell.\n",
    "\n",
    "For a complete list of shortcuts, go to the `Help` menu and select `Keyboard Shortcuts`.\n",
    "\n",
    "### Markdown Cells\n",
    "\n",
    "Markdown is a lightweight markup language that allows you to format text to properly document your code. Here are some basic Markdown elements:\n",
    "\n",
    "- **Headings**: Use `#` for headings (e.g., `# Heading 1`, `## Heading 2`, `### Heading 3`).\n",
    "- **Bold and Italics**: Use `**bold**` or `__bold__` for bold text, and `*italic*` or `_italic_` for italic text.\n",
    "- **Lists**:\n",
    "  - Unordered lists: Use `*`, `-`, or `+` (e.g., `* Item 1`, `- Item 2`).\n",
    "  - Ordered lists: Use numbers followed by a period (e.g., `1. Item 1`, `2. Item 2`).\n",
    "- **Links**: `[Link text](URL)`\n",
    "- **Images**: `![Alt text](URL)`\n",
    "- **Code**: Inline code with backticks `` `code` `` and code blocks with triple backticks ``` ```.\n",
    "\n"
   ]
  },
  {
   "cell_type": "markdown",
   "id": "b07acb1d-3d0c-4e4d-9e00-fa855c4c4490",
   "metadata": {},
   "source": [
    "# 3. Saving and Exporting Notebooks\n",
    "\n",
    "To save your notebook, click the save icon (💾) in the toolbar or press `Ctrl + S`. Jupyter automatically saves your work periodically, but it's a good habit to save manually.\n",
    "\n",
    "### Exporting Notebooks\n",
    "\n",
    "You can export your notebook to various formats like HTML, PDF, and more. To do this:\n",
    "\n",
    "1. Go to the `File` menu.\n",
    "2. Select `Download as`.\n",
    "3. Choose your desired format (e.g., `HTML (.html)`, `PDF via LaTeX (.pdf)`).\n",
    "\n"
   ]
  },
  {
   "cell_type": "markdown",
   "id": "58d74c5c-f770-4b36-a269-c164f2eed16c",
   "metadata": {},
   "source": [
    "### Collaborating with Notebooks & Github\n",
    "\n",
    "Using GitHub is a great way to collaborate on notebooks with others. Here's how you can manage your notebooks using Git.\n",
    "\n",
    "#### Cloning a Repository\n",
    "\n",
    "To work on an existing project, you need to clone the repository to your local environment. Use the following command to clone a repository:\n",
    "\n",
    "```python\n",
    "!git clone https://github.com/your-repo.git\n",
    "```\n",
    "\n",
    "Replace `https://github.com/your-repo.git` with the URL of the repository you want to clone.\n",
    "\n",
    "#### Pulling Changes\n",
    "To update your local repository with the latest changes from the remote repository, use the git pull command:\n",
    "\n",
    "```python\n",
    "!git pull origin main\n",
    "```\n",
    "\n",
    "This command fetches and merges changes from the main branch of the remote repository. Adjust the branch name if you are working on a different branch.\n",
    "\n",
    "#### Staging and Committing Changes\n",
    "To stage the changes you made, use the git add command:\n",
    "\n",
    "```python\n",
    "!git add .\n",
    "```\n",
    "\n",
    "Next, commit the staged changes with a descriptive message:\n",
    "\n",
    "```python\n",
    "!git commit -m \"Your commit message\"\n",
    "```\n",
    "\n",
    "#### Pushing Changes\n",
    "To upload your local changes to the remote repository, use the git push command:\n",
    "\n",
    "```python\n",
    "!git push origin main\n",
    "```\n",
    "This command pushes your changes to the main branch of the remote repository. Adjust the branch name if you are working on a different branch."
   ]
  },
  {
   "cell_type": "markdown",
   "id": "9208cd0e-f01f-40d1-a2ce-b282904420d6",
   "metadata": {},
   "source": [
    "# 4. Installing and Managing Packages/Environments\n",
    "\n",
    "**Note:** The current workflow for using the hub involves accessing the hub with the base image and then customizing it by adding your own packages and environments. This allows you to tailor the environment to your specific project needs.\n",
    "\n",
    "You can install packages directly from within a Jupyter Notebook using the `!` operator to run shell commands. Here are some common ways to install packages:\n",
    "\n",
    "- **Using pip**: The Python package installer.\n",
    "  \n",
    "  ```python\n",
    "  !pip install package_name\n",
    "  ```\n",
    "- **Using conda** The package manager from the Anaconda distribution.\n",
    "\n",
    "   ```python\n",
    "  !conda install package_name\n",
    "    ```\n"
   ]
  },
  {
   "cell_type": "markdown",
   "id": "253e3e8a-0135-48a0-a456-4f6dddbbf007",
   "metadata": {},
   "source": [
    "### Managing Environments with conda\n",
    "In addition to installing packages, conda can also be used to create and manage virtual environments. Virtual environments allow you to manage dependencies for different projects separately. Here are some common commands for managing environments with conda:\n",
    "\n",
    "- **Create a new environment:** \n",
    "  ```python\n",
    "  !conda create --name env_name\n",
    "  ```\n",
    "  Replace env_name with the name of your new environment\n",
    "\n",
    "- **Activate an environment:** \n",
    "  ```python\n",
    "  !conda activate env_name\n",
    "  ```\n",
    "\n",
    "- **Deactivate the current environment:** \n",
    "  ```python\n",
    "  !conda deactivate\n",
    "  ```\n",
    "\n",
    "- **List all environments:** \n",
    "  ```python\n",
    "  !conda env list\n",
    "  ```\n",
    "\n",
    "- **Remove an environment:** \n",
    "  ```python\n",
    "  !conda remove --name env_name --all\n",
    "  ```"
   ]
  },
  {
   "cell_type": "markdown",
   "id": "c383616e-02f4-4f7e-a890-49b991f0fd16",
   "metadata": {},
   "source": [
    "# 5. Accessing the Terminal \n",
    "\n",
    "Jupyter Notebooks provide an integrated terminal, allowing you to perform various command-line tasks directly from your Jupyter environment. This can be useful for managing files, installing packages, and running scripts.\n",
    "\n",
    "#### Opening the Terminal\n",
    "\n",
    "To access the terminal in Jupyter Notebooks:\n",
    "\n",
    "1. **Navigate to the Jupyter Dashboard**: This is the main page you see when you first log in to JupyterHub.\n",
    "2. **Open a New Terminal**:\n",
    "   - Click on the `New` button in the top right corner of the dashboard.\n",
    "   - Select `Terminal` from the dropdown menu.\n",
    "\n",
    "This will open a new terminal window in a new tab.\n",
    "\n",
    "#### Using the Terminal\n",
    "\n",
    "Once the terminal is open, you can use it like any standard command-line interface. Here are some common tasks you might perform:\n",
    "\n",
    "- **Navigating the File System**:\n",
    "  ```bash\n",
    "  ls      # List files and directories\n",
    "  cd      # Change directory\n",
    "  pwd     # Print working directory\n"
   ]
  },
  {
   "cell_type": "markdown",
   "id": "fc4cb2c2-1284-4d26-a384-96b2fe075e80",
   "metadata": {},
   "source": [
    "# 6. Best Practices\n",
    "\n",
    "### Code Organization\n",
    "\n",
    "- **Modularize Your Code**: Break down your code into small, reusable functions. This makes your code easier to understand, test, and maintain.\n",
    "\n",
    "- **Separate Code and Text**: Use Markdown cells to explain your code, document your process, and present your findings. This makes your notebook more readable.\n",
    "\n",
    "- **Use Headings**: Organize your notebook with headings and subheadings to create a clear structure. This helps readers follow your workflow.\n",
    "\n",
    "- **Use Version Control**: Integrate with version control systems like Git to track changes and collaborate with others.\n"
   ]
  },
  {
   "cell_type": "markdown",
   "id": "32ad1f72-9373-4f89-a82f-c6f3af014ca4",
   "metadata": {},
   "source": [
    "### Visualization \n",
    "- **Create Clear Visualizations:** Use appropriate plots to visualize your data. Label your axes and provide a legend if needed.\n",
    "- **Use Interactive Plots:** Consider using interactive plotting libraries like Plotly for better interactivity.\n"
   ]
  },
  {
   "cell_type": "code",
   "execution_count": 3,
   "id": "8fbc9d92-93de-4e02-9f16-b3f3711a02c5",
   "metadata": {},
   "outputs": [
    {
     "data": {
      "image/png": "[encoded data removed]",
      "text/plain": [
       "<Figure size 640x480 with 1 Axes>"
      ]
     },
     "metadata": {},
     "output_type": "display_data"
    }
   ],
   "source": [
    "import matplotlib.pyplot as plt\n",
    "x = [1,2,3,4,5]\n",
    "y = [1,2,3,4,5]\n",
    "# Simple line plot\n",
    "plt.plot(x, y)\n",
    "plt.xlabel('X-axis label')\n",
    "plt.ylabel('Y-axis label')\n",
    "plt.title('Plot Title')\n",
    "plt.legend(['Line 1'])\n",
    "plt.show()\n"
   ]
  },
  {
   "cell_type": "markdown",
   "id": "2b5e5ea2-39ee-4c02-ba4a-bf0d4474524b",
   "metadata": {},
   "source": [
    "### Cleaning Up\n",
    "- **Remove Unused Code:** Delete any code that is not being used. This keeps your notebook clean and focused.\n",
    "\n",
    "- **Restart and Run All:** Before finalizing your notebook, restart the kernel and run all cells to ensure that everything runs correctly from start to finish."
   ]
  },
  {
   "cell_type": "markdown",
   "id": "c6a133b8-87dc-40e9-9f9d-50149c62b464",
   "metadata": {},
   "source": [
    "# 7. Troubleshooting Common Issues\n",
    "\n",
    "- **Kernel Issues**: Restart the kernel if you encounter unexpected behavior or errors.\n",
    "- **Lost Work**: Regularly save your work and consider using checkpoints.\n",
    "- **Cell Output**: Clear the output of cells if it becomes too large or cluttered.\n",
    "- **Wrong Image**: If issues persist make sure you are loaded into GeoLab with the correct image"
   ]
  },
  {
   "cell_type": "code",
   "execution_count": null,
   "id": "399d0d1d-f08b-44a3-a43b-e4b25d798cc8",
   "metadata": {},
   "outputs": [],
   "source": []
  }
 ],
 "metadata": {
  "kernelspec": {
   "display_name": "Python 3 (ipykernel)",
   "language": "python",
   "name": "python3"
  },
  "language_info": {
   "codemirror_mode": {
    "name": "ipython",
    "version": 3
   },
   "file_extension": ".py",
   "mimetype": "text/x-python",
   "name": "python",
   "nbconvert_exporter": "python",
   "pygments_lexer": "ipython3",
   "version": "3.11.9"
  }
 },
 "nbformat": 4,
 "nbformat_minor": 5
}
