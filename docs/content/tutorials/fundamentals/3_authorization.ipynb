{
 "cells": [
  {
   "cell_type": "markdown",
   "id": "2f74efac-4dfd-4e00-8362-2a748d5a4740",
   "metadata": {},
   "source": [
    "# Getting a Token to Access EarthScope Services\n",
    "\n",
    "EarthScope currently offers data through web services and, in the future, direct access to seismic and geodetic data in the cloud. In this module, we'll learn how to request an authorization token for downloading or accessing data from EarthScope.\n",
    "\n",
    "## Getting an EarthScope Token\n",
    "\n",
    "EarthScope's funders require tracking data usage. To this end, EarthScope issues a token to access resources. Tokens are tied to your EarthScope account (which you used to log into GeoLab). Tokens are generated using either the EarthScope SDK (Software Development Kit) or CLI (Command Line Interface). Both packages are installed in GeoLab. The simplest way to generate a token is to use the EarthScope CLI. Copy and paste `es login` into a terminal, then follow the instructions to get a token.\n",
    "\n",
    "```bash\n",
    "es login\n",
    "\n",
    "Attempting to automatically open the SSO authorization page in your default browser.\n",
    "If the browser does not open or you wish to use a different device to authorize \n",
    "this request, open the following URL:\n",
    "\n",
    "                        https://login.earthscope.org/activate?user_code=GFFX-WRZB\n",
    "```\n",
    "\n",
    "Select the link to open a browser tab, and Confirm.\n",
    "\n",
    "![](images/login.png)\n",
    "\n",
    "Tokens are stored in your HOME directory under `.earthscope/default/tokens.json`. When you run an application, earthscope-sdk will find your credentials.\n",
    "\n",
    "Check to see if a token is present in your home directory.\n",
    "\n",
    "```bash\n",
    "cat $HOME/.earthscope/default/tokens.json\n",
    "```\n",
    "\n",
    "Creating an environment variable for the token makes it easier to use, e.g.:\n",
    "\n",
    "```bash\n",
    "export EARTHSCOPE_TOKEN=\"$HOME/.earthscope/default/tokens.json\"\n",
    "cat $EARTHSCOPE_TOKEN\n",
    "```\n",
    "\n"
   ]
  },
  {
   "cell_type": "markdown",
   "id": "04626615-c678-472e-8708-eb2b6ce51805",
   "metadata": {},
   "source": [
    "Alternatively, you can get a token programmatically with Python and the EarthScope SDK."
   ]
  },
  {
   "cell_type": "code",
   "execution_count": null,
   "id": "640f69ba-0199-44ef-b5e1-abe75f88efc4",
   "metadata": {},
   "outputs": [],
   "source": [
    "from earthscope_sdk import EarthScopeClient\n",
    "\n",
    "client = EarthScopeClient()\n",
    "\n",
    "def get_token(token_path='./'):\n",
    "\n",
    "    # refresh the token if it has expired\n",
    "    client.ctx.auth_flow.refresh_if_necessary()\n",
    "\n",
    "    token = client.ctx.auth_flow.access_token\n",
    "    \n",
    "    return token\n",
    "\n",
    "print(get_token())"
   ]
  },
  {
   "cell_type": "markdown",
   "id": "8468d7f4-3dd4-4e90-8fe8-94ba5e703dc2",
   "metadata": {},
   "source": [
    "The token enables you to download miniSEED or GNSS data by including it in the web service request. The following [**notebook**](4_data_access.ipynb) demonstrates how to request, save, and stream data in GeoLab.\n",
    "\n",
    "More information about authorization at EarthScope is [**available**](https://www.earthscope.org/data/authentication/)."
   ]
  },
  {
   "cell_type": "markdown",
   "id": "ffc6bc1e-8ddb-4c4c-8269-ed702f6e17f0",
   "metadata": {},
   "source": [
    "## Direct Data Access from the AWS Open Data Program \n",
    "\n",
    "In the future, EarthScope data will be available through the [AWS Open Data Program](https://aws.amazon.com/opendata/). Data access through the AWS Open Data Program does not require authorization. For SAGE data, you can use [`boto3`](https://pypi.org/project/boto3/), a Python package for working with AWS services, including S3."
   ]
  },
  {
   "cell_type": "code",
   "execution_count": null,
   "id": "41504edc-bb15-4481-ad5c-064e18ecf193",
   "metadata": {
    "scrolled": true
   },
   "outputs": [],
   "source": [
    "from jupyterquiz import display_quiz\n",
    "\n",
    "git_path = \"questions/\"\n",
    "display_quiz(git_path+\"authorization.json\")"
   ]
  },
  {
   "cell_type": "markdown",
   "id": "bdde6d81-3c7f-42d1-8fdc-8463a7efc534",
   "metadata": {},
   "source": [
    "## [< Previous](./2_package_management.ipynb)&emsp;&emsp;&emsp;&emsp;&emsp;&emsp;&emsp;&emsp;&emsp;&emsp;&emsp;&emsp;&emsp;[Next >](./4_web_services_data.ipynb)"
   ]
  }
 ],
 "metadata": {
  "kernelspec": {
   "display_name": "Python 3 (ipykernel)",
   "language": "python",
   "name": "python3"
  },
  "language_info": {
   "codemirror_mode": {
    "name": "ipython",
    "version": 3
   },
   "file_extension": ".py",
   "mimetype": "text/x-python",
   "name": "python",
   "nbconvert_exporter": "python",
   "pygments_lexer": "ipython3",
   "version": "3.13.5"
  }
 },
 "nbformat": 4,
 "nbformat_minor": 5
}
