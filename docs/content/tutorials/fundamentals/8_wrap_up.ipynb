{
 "cells": [
  {
   "cell_type": "markdown",
   "id": "3154392e-b584-445c-a6cb-b9dfed447a7f",
   "metadata": {},
   "source": [
    "# Putting It All Togther\n",
    "\n",
    "This project covers how to create a project in GeoLab. It's best practice to structure your project using git for several reasons. First, git tracks your code and saves it at different states. It enables you to roll back to working code. Second, you can create branches to test new features. Finally, you can publish and share your project code by publishing it to a public repository, such as GitHub.\n",
    "\n",
    "GeoLab is a Python environment that contains many tools for geoscience. However, it's another best practice to create a project-specific virtual environment. GeoLab uses conda as a package manager, and you can clone the base GeoLab virtual environment and add project-specific packages as needed. Conda creates virtual environments and resolves package dependencies and conflicts, ensuring that projects can be deployed on a variety of platforms.\n",
    "\n",
    "You will need an EarthScope account to access GeoLab. Once in GeoLab, accessing EarthScope data requires an authorization token, which can be requested with the EarthScope CLI or programmatically with the EarthScope SDK. The token enables requesting data from EarthScope.\n",
    "\n",
    "There are several ways to acquire data from EarthScope. Data is available through web services and through cloud services. The primary distinction between web and cloud services is that web services are used to download data as files in GeoLab. In addition to the computer I/O overhead of writing a file, there is additional overhead to read files for processing and analysis. In contrast, cloud services stream data directly to memory, where it is immediately available for processing and analysis.\n",
    "\n",
    "The future of GeoLab and EarthScope data distribution is cloud services. Web services will be available as EarthScope makes more data available through the cloud."
   ]
  },
  {
   "cell_type": "markdown",
   "id": "2a7a6216-0058-40ca-9586-448c71a4c6d4",
   "metadata": {},
   "source": [
    "## [< Previous](./7_cloud_native_exercise.ipynb)"
   ]
  },
  {
   "cell_type": "code",
   "execution_count": null,
   "id": "2d626393-6414-4f45-b275-f84b090b7cdd",
   "metadata": {},
   "outputs": [],
   "source": []
  }
 ],
 "metadata": {
  "kernelspec": {
   "display_name": "Python 3 (ipykernel)",
   "language": "python",
   "name": "python3"
  },
  "language_info": {
   "codemirror_mode": {
    "name": "ipython",
    "version": 3
   },
   "file_extension": ".py",
   "mimetype": "text/x-python",
   "name": "python",
   "nbconvert_exporter": "python",
   "pygments_lexer": "ipython3",
   "version": "3.13.5"
  }
 },
 "nbformat": 4,
 "nbformat_minor": 5
}
