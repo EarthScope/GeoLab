{
 "cells": [
  {
   "cell_type": "code",
   "execution_count": null,
   "metadata": {},
   "outputs": [],
   "source": [
    "import boto3\n",
    "\n",
    "import boto3\n",
    "print(boto3.__version__)\n",
    "\n",
    "s3 = boto3.client('s3', region_name=\"us-east-2\")\n",
    "bucket = \"essc-mspass2024\"\n",
    "\n",
    "s3.download_file(bucket, 'test_text.txt', './test_file.txt')"
   ]
  }
 ],
 "metadata": {
  "language_info": {
   "name": "python"
  }
 },
 "nbformat": 4,
 "nbformat_minor": 2
}
